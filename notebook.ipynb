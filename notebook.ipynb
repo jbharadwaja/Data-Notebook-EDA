{
 "cells": [
  {
   "cell_type": "markdown",
   "id": "ddb78ed3-d72d-4a42-94bf-9d7d71372631",
   "metadata": {},
   "source": [
    "# READING AND VIEWING DATA\n",
    "\n",
    "### What does CSV mean?\n",
    "\n",
    "CSV stands for **comma-separated values**.  \n",
    "Normally, this means the data in the file is split up using commas.  \n",
    "\n",
    "But it doesn’t always have to be commas — other symbols can also separate the data.  \n",
    "\n",
    "A common example is **tab-separated values**, which are often saved with file types like:\n",
    "\n",
    "- `.tsv`\n",
    "- `.tab`\n",
    "- `.csv`\n"
   ]
  },
  {
   "cell_type": "code",
   "execution_count": null,
   "id": "e5895d96-b3d5-4218-b3e2-d8c2cec93de1",
   "metadata": {},
   "outputs": [],
   "source": [
    "# IMPORTS \n",
    "import pandas as pd\n",
    "\n",
    "# READING THE DATA\n",
    "data = pd.read_csv('datasets/global_power_plant_database.csv')\n",
    "\n",
    "# DISPLAYING THE FIRST 5 OF THE DATASET\n",
    "data.head()"
   ]
  },
  {
   "cell_type": "code",
   "execution_count": null,
   "id": "ff160075-b191-440d-ade2-7c3b2658a013",
   "metadata": {},
   "outputs": [],
   "source": []
  }
 ],
 "metadata": {
  "kernelspec": {
   "display_name": "My Python Environment",
   "language": "python",
   "name": "my_env"
  },
  "language_info": {
   "codemirror_mode": {
    "name": "ipython",
    "version": 3
   },
   "file_extension": ".py",
   "mimetype": "text/x-python",
   "name": "python",
   "nbconvert_exporter": "python",
   "pygments_lexer": "ipython3",
   "version": "3.11.5"
  }
 },
 "nbformat": 4,
 "nbformat_minor": 5
}
