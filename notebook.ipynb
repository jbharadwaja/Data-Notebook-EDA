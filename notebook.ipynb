{
 "cells": [
  {
   "cell_type": "markdown",
   "id": "ddb78ed3-d72d-4a42-94bf-9d7d71372631",
   "metadata": {},
   "source": [
    "# READING AND VIEWING DATA\n",
    "\n",
    "### What does CSV mean?\n",
    "\n",
    "CSV stands for **comma-separated values**.  \n",
    "Normally, this means the data in the file is split up using commas.  \n",
    "\n",
    "But it doesn’t always have to be commas — other symbols can also separate the data.  \n",
    "\n",
    "A common example is **tab-separated values**, which are often saved with file types like:\n",
    "\n",
    "- `.tsv`\n",
    "- `.tab`\n",
    "- `.csv`\n"
   ]
  },
  {
   "cell_type": "code",
   "execution_count": 2,
   "id": "e5895d96-b3d5-4218-b3e2-d8c2cec93de1",
   "metadata": {},
   "outputs": [
    {
     "data": {
      "text/html": [
       "<div>\n",
       "<style scoped>\n",
       "    .dataframe tbody tr th:only-of-type {\n",
       "        vertical-align: middle;\n",
       "    }\n",
       "\n",
       "    .dataframe tbody tr th {\n",
       "        vertical-align: top;\n",
       "    }\n",
       "\n",
       "    .dataframe thead th {\n",
       "        text-align: right;\n",
       "    }\n",
       "</style>\n",
       "<table border=\"1\" class=\"dataframe\">\n",
       "  <thead>\n",
       "    <tr style=\"text-align: right;\">\n",
       "      <th></th>\n",
       "      <th>USA|Plant_1|2426|Nuclear|1960</th>\n",
       "    </tr>\n",
       "  </thead>\n",
       "  <tbody>\n",
       "    <tr>\n",
       "      <th>0</th>\n",
       "      <td>India|Plant_2|966|Gas|2015</td>\n",
       "    </tr>\n",
       "    <tr>\n",
       "      <th>1</th>\n",
       "      <td>Canada|Plant_3|2580|Wind|1982</td>\n",
       "    </tr>\n",
       "    <tr>\n",
       "      <th>2</th>\n",
       "      <td>Japan|Plant_4|2496|Biomass|1976</td>\n",
       "    </tr>\n",
       "    <tr>\n",
       "      <th>3</th>\n",
       "      <td>Germany|Plant_5|2517|Biomass|2005</td>\n",
       "    </tr>\n",
       "    <tr>\n",
       "      <th>4</th>\n",
       "      <td>France|Plant_6|298|Coal|1990</td>\n",
       "    </tr>\n",
       "  </tbody>\n",
       "</table>\n",
       "</div>"
      ],
      "text/plain": [
       "       USA|Plant_1|2426|Nuclear|1960\n",
       "0         India|Plant_2|966|Gas|2015\n",
       "1      Canada|Plant_3|2580|Wind|1982\n",
       "2    Japan|Plant_4|2496|Biomass|1976\n",
       "3  Germany|Plant_5|2517|Biomass|2005\n",
       "4       France|Plant_6|298|Coal|1990"
      ]
     },
     "execution_count": 2,
     "metadata": {},
     "output_type": "execute_result"
    }
   ],
   "source": [
    "# IMPORTS \n",
    "import pandas as pd\n",
    "\n",
    "# READING THE DATA\n",
    "data = pd.read_csv('datasets/tab_power_plant_database.csv')\n",
    "\n",
    "# DISPLAYING THE FIRST 5 OF THE DATASET\n",
    "data.head()"
   ]
  },
  {
   "cell_type": "code",
   "execution_count": 3,
   "id": "ff160075-b191-440d-ade2-7c3b2658a013",
   "metadata": {},
   "outputs": [
    {
     "name": "stdout",
     "output_type": "stream",
     "text": [
      "       USA  Plant_1  2426  Nuclear  1960\n",
      "0    India  Plant_2   966      Gas  2015\n",
      "1   Canada  Plant_3  2580     Wind  1982\n",
      "2    Japan  Plant_4  2496  Biomass  1976\n",
      "3  Germany  Plant_5  2517  Biomass  2005\n",
      "4   France  Plant_6   298     Coal  1990\n"
     ]
    }
   ],
   "source": [
    "data = pd.read_csv('datasets/tab_power_plant_database.csv', sep='|')\n",
    "#country|plant_name|capacity_MW|primary_fuel|year_commissioned\n",
    "\n",
    "print(data.head())"
   ]
  },
  {
   "cell_type": "code",
   "execution_count": 4,
   "id": "370eb0cb-0ed2-4941-a911-ad39b00f6220",
   "metadata": {},
   "outputs": [
    {
     "name": "stdout",
     "output_type": "stream",
     "text": [
      "   country plant_name  capacity_MW primary_fuel  year_commissioned\n",
      "0      USA    Plant_1         2426      Nuclear               1960\n",
      "1    India    Plant_2          966          Gas               2015\n",
      "2   Canada    Plant_3         2580         Wind               1982\n",
      "3    Japan    Plant_4         2496      Biomass               1976\n",
      "4  Germany    Plant_5         2517      Biomass               2005\n"
     ]
    }
   ],
   "source": [
    "column_name = ['country','plant_name','capacity_MW','primary_fuel','year_commissioned']\n",
    "data = pd.read_csv('datasets/tab_power_plant_database.csv', sep='|', header=None, names=column_name, decimal=\",\")\n",
    "print(data.head())"
   ]
  },
  {
   "cell_type": "code",
   "execution_count": 5,
   "id": "c0bdcda0-da0f-4b70-bbb0-cc38103b0965",
   "metadata": {},
   "outputs": [
    {
     "data": {
      "text/html": [
       "<div>\n",
       "<style scoped>\n",
       "    .dataframe tbody tr th:only-of-type {\n",
       "        vertical-align: middle;\n",
       "    }\n",
       "\n",
       "    .dataframe tbody tr th {\n",
       "        vertical-align: top;\n",
       "    }\n",
       "\n",
       "    .dataframe thead th {\n",
       "        text-align: right;\n",
       "    }\n",
       "</style>\n",
       "<table border=\"1\" class=\"dataframe\">\n",
       "  <thead>\n",
       "    <tr style=\"text-align: right;\">\n",
       "      <th></th>\n",
       "      <th>country</th>\n",
       "      <th>plant_name</th>\n",
       "      <th>capacity_MW</th>\n",
       "      <th>primary_fuel</th>\n",
       "      <th>year_commissioned</th>\n",
       "    </tr>\n",
       "  </thead>\n",
       "  <tbody>\n",
       "    <tr>\n",
       "      <th>343</th>\n",
       "      <td>Australia</td>\n",
       "      <td>Plant_344</td>\n",
       "      <td>309</td>\n",
       "      <td>Oil</td>\n",
       "      <td>1981</td>\n",
       "    </tr>\n",
       "    <tr>\n",
       "      <th>499</th>\n",
       "      <td>Canada</td>\n",
       "      <td>Plant_500</td>\n",
       "      <td>1567</td>\n",
       "      <td>Hydro</td>\n",
       "      <td>1980</td>\n",
       "    </tr>\n",
       "    <tr>\n",
       "      <th>70</th>\n",
       "      <td>Canada</td>\n",
       "      <td>Plant_71</td>\n",
       "      <td>1657</td>\n",
       "      <td>Oil</td>\n",
       "      <td>2004</td>\n",
       "    </tr>\n",
       "    <tr>\n",
       "      <th>344</th>\n",
       "      <td>India</td>\n",
       "      <td>Plant_345</td>\n",
       "      <td>1530</td>\n",
       "      <td>Biomass</td>\n",
       "      <td>2004</td>\n",
       "    </tr>\n",
       "    <tr>\n",
       "      <th>364</th>\n",
       "      <td>Brazil</td>\n",
       "      <td>Plant_365</td>\n",
       "      <td>4654</td>\n",
       "      <td>Coal</td>\n",
       "      <td>1983</td>\n",
       "    </tr>\n",
       "  </tbody>\n",
       "</table>\n",
       "</div>"
      ],
      "text/plain": [
       "       country plant_name  capacity_MW primary_fuel  year_commissioned\n",
       "343  Australia  Plant_344          309          Oil               1981\n",
       "499     Canada  Plant_500         1567        Hydro               1980\n",
       "70      Canada   Plant_71         1657          Oil               2004\n",
       "344      India  Plant_345         1530      Biomass               2004\n",
       "364     Brazil  Plant_365         4654         Coal               1983"
      ]
     },
     "execution_count": 5,
     "metadata": {},
     "output_type": "execute_result"
    }
   ],
   "source": [
    "data.sample(5)"
   ]
  },
  {
   "cell_type": "code",
   "execution_count": null,
   "id": "07666a8b-072e-4b6f-b8ab-aa4e6725376b",
   "metadata": {},
   "outputs": [],
   "source": []
  }
 ],
 "metadata": {
  "kernelspec": {
   "display_name": "My Python Environment",
   "language": "python",
   "name": "my_env"
  },
  "language_info": {
   "codemirror_mode": {
    "name": "ipython",
    "version": 3
   },
   "file_extension": ".py",
   "mimetype": "text/x-python",
   "name": "python",
   "nbconvert_exporter": "python",
   "pygments_lexer": "ipython3",
   "version": "3.11.5"
  }
 },
 "nbformat": 4,
 "nbformat_minor": 5
}
